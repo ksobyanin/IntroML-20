{
 "cells": [
  {
   "cell_type": "markdown",
   "metadata": {},
   "source": [
    "# Setup the Environment"
   ]
  },
  {
   "cell_type": "markdown",
   "metadata": {},
   "source": [
    "## With miniconda"
   ]
  },
  {
   "cell_type": "markdown",
   "metadata": {},
   "source": [
    "Conda is an open-source package management system and environment management system that runs on Windows, macOS, and Linux. Conda quickly installs, runs, and updates packages and their dependencies. Conda easily creates, saves, loads, and switches between environments on your local computer."
   ]
  },
  {
   "cell_type": "markdown",
   "metadata": {},
   "source": [
    "Miniconda is a free minimal installer for conda. It is a small, bootstrap version of Anaconda that includes only conda, Python, the packages they depend on, and a small number of other useful packages, including pip, zlib and a few others."
   ]
  },
  {
   "cell_type": "markdown",
   "metadata": {},
   "source": [
    "- [Installing miconda](https://docs.conda.io/en/latest/miniconda.html#)\n",
    "- [Getting started with conda](https://docs.conda.io/projects/conda/en/latest/user-guide/getting-started.html#starting-conda)\n",
    "- Create, then activate the environment:\n",
    "\n",
    "    ```conda create -n introml```\n",
    "\n",
    "    `conda activate introml`\n",
    "    \n",
    "    \n",
    "- Add community channel [conda-forge](https://conda-forge.org/):\n",
    "\n",
    "    `conda config --add channels conda-forge`\n",
    "\n",
    "    `conda config --set channel_priority strict`\n",
    "\n",
    "\n",
    " - Install pakages in your active environment. Be careful! Only use the `conda install` command. Packages from different repositories may conflict and your environment will break.\n",
    "\n",
    "     `conda install jupyterlab`\n",
    "     \n",
    "     `conda install pandas`     \n",
    "     \n",
    "     `conda install seaborn`\n",
    "     \n",
    "     `conda install scikit-learn`"
   ]
  },
  {
   "cell_type": "markdown",
   "metadata": {},
   "source": [
    "## With virtualenv"
   ]
  },
  {
   "cell_type": "markdown",
   "metadata": {},
   "source": [
    "If you familiar with python and prefer virtualenv for manage your environments, you can use next commands to setup the environment:\n",
    "\n",
    "`cd \"path/to/project_folder\"`\n",
    "\n",
    "`python -m venv env`\n",
    "\n",
    "`source env/bin/activate`\n",
    "\n",
    "`pip install jupyterlab pandas seaborn scikit-learn`"
   ]
  },
  {
   "cell_type": "markdown",
   "metadata": {},
   "source": [
    "## Run jupyterlab"
   ]
  },
  {
   "cell_type": "markdown",
   "metadata": {},
   "source": [
    "Use `jupyter lab` commad in terminal to run jupyterlab,\n",
    "or `jupyter notebook` to run jupyter notebook"
   ]
  }
 ],
 "metadata": {
  "kernelspec": {
   "display_name": "Python 3",
   "language": "python",
   "name": "python3"
  },
  "language_info": {
   "codemirror_mode": {
    "name": "ipython",
    "version": 3
   },
   "file_extension": ".py",
   "mimetype": "text/x-python",
   "name": "python",
   "nbconvert_exporter": "python",
   "pygments_lexer": "ipython3",
   "version": "3.7.4"
  }
 },
 "nbformat": 4,
 "nbformat_minor": 2
}
