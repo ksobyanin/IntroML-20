{
 "cells": [
  {
   "cell_type": "markdown",
   "metadata": {},
   "source": [
    "# Interpretation of Experimental Data\n",
    "\n",
    "## Goals\n",
    "\n",
    "- **Draw spectrograms**\n",
    "- **Determine the mechanical properties of dampers: stiffness and viscous in each direction for each damper. The sprung mass is *0.758 kg*.**\n",
    "\n",
    "**Stiffness**: $$c = m (2 \\pi \\nu)^2 $$\n",
    "\n",
    "**Viscous**: $$\\eta = m  \\frac{a_{in}}{a_{out}} (2  \\pi  \\nu) $$\n",
    "\n",
    "where: $m$ — *sprung mass*, $\\nu$ — *natural frequency*, $a_{in}$ — *input acceleration (load)*,  $a_{out}$ — *output acceleration (response)*"
   ]
  },
  {
   "cell_type": "markdown",
   "metadata": {},
   "source": [
    "## Experiment\n",
    "**Damper's appearance** | **Damper's structure**\n",
    "------------ | -------------\n",
    "<img src=\"VIBRO_DATA/img/g2.PNG\" alt=\"drawing\" width=\"450\"/>|<img src=\"VIBRO_DATA/img/damper.png\" alt=\"drawing\" width=\"450\"/>\n",
    "\n",
    "\n",
    "**Mounting** | **Setup**\n",
    "------------ | -------------\n",
    "<img src=\"VIBRO_DATA/img/GQ5RHMqNF6U.jpg\" alt=\"drawing\" width=\"450\"/>| <img src=\"VIBRO_DATA/img/GogmLaroqI0.jpg\" alt=\"drawing\" width=\"450\"/>\n",
    "\n",
    "The results of vibration tests are saved in the `VIBRO_DATA/RESULT` folder.\n",
    "\n",
    "`VIBRO_DATA/Description.txt` file contains annotations for results."
   ]
  },
  {
   "cell_type": "markdown",
   "metadata": {},
   "source": [
    "## Solution"
   ]
  },
  {
   "cell_type": "markdown",
   "metadata": {},
   "source": [
    "### Plan:\n",
    "- Viewing files with jupyterlab and terminal\n",
    "- Viewing files with module `os` and `glob`\n",
    "- Reading files with function `open()`\n",
    "- Using statment `with`\n",
    "- Processing with `numpy`\n",
    "- Drawing with `matplotlib.pyplot` and `seaborn`\n",
    "- Using custom module and `%load_ext autoreload` magic\n",
    "- Benchmarking `%%time` magic\n",
    "- Using `pikle` and `hdf5` module\n",
    "- Using `pandas` for reading tabels"
   ]
  },
  {
   "cell_type": "code",
   "execution_count": null,
   "metadata": {},
   "outputs": [],
   "source": []
  },
  {
   "cell_type": "markdown",
   "metadata": {},
   "source": [
    "The `with` statement clarifies code that previously would use `try...finally` blocks to ensure that clean-up code is executed.\n",
    "    The `with` statement is a control-flow structure whose basic structure is:\n",
    "\n",
    "```\n",
    "with expression [as variable]:\n",
    "    with-block\n",
    "```\n",
    "   The expression is evaluated, and it should result in an object that supports the context management protocol (that is, has `__enter__()` and `__exit__()` methods)."
   ]
  },
  {
   "cell_type": "code",
   "execution_count": null,
   "metadata": {},
   "outputs": [],
   "source": []
  }
 ],
 "metadata": {
  "kernelspec": {
   "display_name": "Python 3",
   "language": "python",
   "name": "python3"
  },
  "language_info": {
   "codemirror_mode": {
    "name": "ipython",
    "version": 3
   },
   "file_extension": ".py",
   "mimetype": "text/x-python",
   "name": "python",
   "nbconvert_exporter": "python",
   "pygments_lexer": "ipython3",
   "version": "3.8.1"
  }
 },
 "nbformat": 4,
 "nbformat_minor": 4
}
