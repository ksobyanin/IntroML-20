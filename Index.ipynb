{
 "cells": [
  {
   "cell_type": "markdown",
   "metadata": {},
   "source": [
    "# Introduction to Machine Learning\n",
    "\n",
    "## Materials\n",
    "- [Slides of the Lectures](http://bit.ly/2020-IntroML)\n",
    "- [Setup the Environment](notebooks/setup.ipynb)\n",
    "- [Jupyterlab User Guide](https://jupyterlab.readthedocs.io/en/latest/user/interface.html)\n",
    "- [Python Basics for Science](https://scipy-lectures.org/intro/index.html)\n",
    "- [Style Guide for Python Code](https://www.python.org/dev/peps/pep-0008/)\n",
    "\n",
    "## Seminars\n",
    "- [Working with files](notebooks/files.ipynb)"
   ]
  }
 ],
 "metadata": {
  "kernelspec": {
   "display_name": "Python 3",
   "language": "python",
   "name": "python3"
  },
  "language_info": {
   "codemirror_mode": {
    "name": "ipython",
    "version": 3
   },
   "file_extension": ".py",
   "mimetype": "text/x-python",
   "name": "python",
   "nbconvert_exporter": "python",
   "pygments_lexer": "ipython3",
   "version": "3.8.1"
  }
 },
 "nbformat": 4,
 "nbformat_minor": 4
}
