{
 "cells": [
  {
   "cell_type": "markdown",
   "metadata": {},
   "source": [
    "# Introduction to Machine Learning\n",
    "\n",
    "## Materials\n",
    "\n",
    "- [Lections Slides](http://bit.ly/2020-IntroML)\n",
    "- [Setup the Environment](notebooks/setup.ipynb)\n",
    "- [Jupyterlab User Guide](https://jupyterlab.readthedocs.io/en/latest/user/interface.html)\n",
    "- [Python Basics for Science](https://scipy-lectures.org/intro/index.html)\n",
    "- [Style Guide for Python Code](https://www.python.org/dev/peps/pep-0008/)"
   ]
  },
  {
   "cell_type": "code",
   "execution_count": null,
   "metadata": {},
   "outputs": [],
   "source": []
  }
 ],
 "metadata": {
  "kernelspec": {
   "display_name": "Python 3",
   "language": "python",
   "name": "python3"
  },
  "language_info": {
   "codemirror_mode": {
    "name": "ipython",
    "version": 3
   },
   "file_extension": ".py",
   "mimetype": "text/x-python",
   "name": "python",
   "nbconvert_exporter": "python",
   "pygments_lexer": "ipython3",
   "version": "3.7.4"
  }
 },
 "nbformat": 4,
 "nbformat_minor": 2
}
